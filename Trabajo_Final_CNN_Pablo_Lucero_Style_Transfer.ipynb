{
  "nbformat": 4,
  "nbformat_minor": 0,
  "metadata": {
    "colab": {
      "name": " Trabajo Final CNN - Pablo Lucero -Style Transfer.ipynb",
      "provenance": [],
      "collapsed_sections": [],
      "toc_visible": true,
      "include_colab_link": true
    },
    "kernelspec": {
      "name": "python3",
      "display_name": "Python 3"
    },
    "accelerator": "GPU"
  },
  "cells": [
    {
      "cell_type": "markdown",
      "metadata": {
        "id": "view-in-github",
        "colab_type": "text"
      },
      "source": [
        "<a href=\"https://colab.research.google.com/github/luceroster/TaurisTest/blob/master/Trabajo_Final_CNN_Pablo_Lucero_Style_Transfer.ipynb\" target=\"_parent\"><img src=\"https://colab.research.google.com/assets/colab-badge.svg\" alt=\"Open In Colab\"/></a>"
      ]
    },
    {
      "cell_type": "markdown",
      "metadata": {
        "id": "qCY6UbkkI9_N",
        "colab_type": "text"
      },
      "source": [
        "# Style Transfer\n",
        "\n",
        "<img src=\"https://i0.wp.com/chelseatroy.com/wp-content/uploads/2018/12/neural_style_transfer.png?resize=768%2C311&ssl=1\">\n",
        "\n",
        "La idea de este trabajo final es reproducir el siguiente paper:\n",
        "\n",
        "https://arxiv.org/pdf/1508.06576.pdf\n",
        "\n",
        "El objetivo es transferir el estilo de una imagen dada a otra imagen distinta. \n",
        "\n",
        "Como hemos visto en clase, las primeras capas de una red convolucional se activan ante la presencia de ciertos patrones vinculados a detalles muy pequeños.\n",
        "\n",
        "A medida que avanzamos en las distintas capas de una red neuronal convolucional, los filtros se van activando a medida que detectan patrones de formas cada vez mas complejos.\n",
        "\n",
        "Lo que propone este paper es asignarle a la activación de las primeras capas de una red neuronal convolucional (por ejemplo VGG19) la definición del estilo y a la activación de las últimas capas de la red neuronal convolucional, la definición del contenido.\n",
        "\n",
        "La idea de este paper es, a partir de dos imágenes (una que aporte el estilo y otra que aporte el contenido) analizar cómo es la activación de las primeras capas para la imagen que aporta el estilo y cómo es la activación de las últimas capas de la red convolucional para la imagen que aporta el contenido. A partir de esto se intentará sintetizar una imagen que active los filtros de las primeras capas que se activaron con la imagen que aporta el estilo y los filtros de las últimas capas que se activaron con la imagen que aporta el contenido.\n",
        "\n",
        "A este procedimiento se lo denomina neural style transfer.\n",
        "\n",
        "# En este trabajo se deberá leer el paper mencionado y en base a ello, entender la implementación que se muestra a continuación y contestar preguntas sobre la misma.\n",
        "\n",
        "# Una metodología posible es hacer una lectura rápida del paper (aunque esto signifique no entender algunos detalles del mismo) y luego ir analizando el código y respondiendo las preguntas. A medida que se planteen las preguntas, volviendo a leer secciones específicas del paper terminará de entender los detalles que pudieran haber quedado pendientes.\n",
        "\n",
        "Lo primero que haremos es cargar dos imágenes, una que aporte el estilo y otra que aporte el contenido. A tal fin utilizaremos imágenes disponibles en la web."
      ]
    },
    {
      "cell_type": "code",
      "metadata": {
        "id": "kyHsa2t0SxZi",
        "colab_type": "code",
        "colab": {
          "base_uri": "https://localhost:8080/",
          "height": 455
        },
        "outputId": "8b5630a3-9d12-48af-9d08-8c8d0a69ad3c"
      },
      "source": [
        "# Imagen para estilo\n",
        "!wget https://upload.wikimedia.org/wikipedia/commons/5/52/La_noche_estrellada1.jpg\n",
        "\n",
        "# Imagen para contenido\n",
        "\n",
        "!wget https://upload.wikimedia.org/wikipedia/commons/thumb/f/f4/Neckarfront_T%C3%BCbingen_Mai_2017.jpg/775px-Neckarfront_T%C3%BCbingen_Mai_2017.jpg\n",
        "\n",
        "# Creamos el directorio para los archivos de salida\n",
        "!mkdir /content/output"
      ],
      "execution_count": 33,
      "outputs": [
        {
          "output_type": "stream",
          "text": [
            "--2020-06-30 01:06:19--  https://upload.wikimedia.org/wikipedia/commons/5/52/La_noche_estrellada1.jpg\n",
            "Resolving upload.wikimedia.org (upload.wikimedia.org)... 91.198.174.208, 2620:0:862:ed1a::2:b\n",
            "Connecting to upload.wikimedia.org (upload.wikimedia.org)|91.198.174.208|:443... connected.\n",
            "HTTP request sent, awaiting response... 200 OK\n",
            "Length: 223725 (218K) [image/jpeg]\n",
            "Saving to: ‘La_noche_estrellada1.jpg.2’\n",
            "\n",
            "\r          La_noche_   0%[                    ]       0  --.-KB/s               \rLa_noche_estrellada 100%[===================>] 218.48K  --.-KB/s    in 0.02s   \n",
            "\n",
            "2020-06-30 01:06:19 (12.5 MB/s) - ‘La_noche_estrellada1.jpg.2’ saved [223725/223725]\n",
            "\n",
            "--2020-06-30 01:06:21--  https://upload.wikimedia.org/wikipedia/commons/thumb/f/f4/Neckarfront_T%C3%BCbingen_Mai_2017.jpg/775px-Neckarfront_T%C3%BCbingen_Mai_2017.jpg\n",
            "Resolving upload.wikimedia.org (upload.wikimedia.org)... 91.198.174.208, 2620:0:862:ed1a::2:b\n",
            "Connecting to upload.wikimedia.org (upload.wikimedia.org)|91.198.174.208|:443... connected.\n",
            "HTTP request sent, awaiting response... 200 OK\n",
            "Length: 153015 (149K) [image/jpeg]\n",
            "Saving to: ‘775px-Neckarfront_Tübingen_Mai_2017.jpg’\n",
            "\n",
            "775px-Neckarfront_T 100%[===================>] 149.43K  --.-KB/s    in 0.02s   \n",
            "\n",
            "2020-06-30 01:06:21 (9.45 MB/s) - ‘775px-Neckarfront_Tübingen_Mai_2017.jpg’ saved [153015/153015]\n",
            "\n",
            "mkdir: cannot create directory ‘/content/output’: File exists\n"
          ],
          "name": "stdout"
        }
      ]
    },
    {
      "cell_type": "code",
      "metadata": {
        "id": "vYN3bfXRP_kX",
        "colab_type": "code",
        "colab": {
          "base_uri": "https://localhost:8080/",
          "height": 35
        },
        "outputId": "efd782f0-90b4-4b97-86b1-fc30ab8fa8ba"
      },
      "source": [
        "from google.colab import drive\n",
        "drive.mount('/content/drive')"
      ],
      "execution_count": 34,
      "outputs": [
        {
          "output_type": "stream",
          "text": [
            "Drive already mounted at /content/drive; to attempt to forcibly remount, call drive.mount(\"/content/drive\", force_remount=True).\n"
          ],
          "name": "stdout"
        }
      ]
    },
    {
      "cell_type": "code",
      "metadata": {
        "id": "NIxH20o2eFoc",
        "colab_type": "code",
        "colab": {}
      },
      "source": [
        "from keras.preprocessing.image import load_img, save_img, img_to_array\n",
        "import numpy as np\n",
        "from scipy.optimize import fmin_l_bfgs_b\n",
        "import time\n",
        "import argparse\n",
        "\n",
        "from keras.applications import vgg19\n",
        "from keras import backend as K\n",
        "from pathlib import Path"
      ],
      "execution_count": 35,
      "outputs": []
    },
    {
      "cell_type": "code",
      "metadata": {
        "id": "iLkV1bnFl_tK",
        "colab_type": "code",
        "colab": {}
      },
      "source": [
        "# Definimos las imagenes que vamos a utilizar, y el directorio de salida\n",
        "\n",
        "base_image_path = Path(\"/content/775px-Neckarfront_Tübingen_Mai_2017.jpg\")\n",
        "#base_image_path = Path(\"/content/zfmly.jpg\")\n",
        "style_reference_image_path = Path(\"/content/La_noche_estrellada1.jpg\")\n",
        "#style_reference_image_path = Path(\"/content/zpicasso.jpg\")\n",
        "result_prefix = Path(\"/content/output\")\n",
        "iterations = 100"
      ],
      "execution_count": 36,
      "outputs": []
    },
    {
      "cell_type": "markdown",
      "metadata": {
        "id": "Gz2PeGfpeYzj",
        "colab_type": "text"
      },
      "source": [
        "# 1) En base a lo visto en el paper ¿Qué significan los parámetros definidos en la siguiente celda?\n",
        "\n",
        "**Respuesta**: Son los pesos seleccionados para content y style. Son los pesos de la ecuacion (7) del paper mencionado arriba. En la siguiente formula seria el alfa para Content y el beta para style.\n",
        "- El content_weight = alfa\n",
        "- Style_weight = beta\n",
        "- total_variation_weight = peso para el calculo de la loss que penaliza la varianza de la imagen generada dandole coherencia y suavidad en los cambios entre pixeles \n",
        " ![image.png](data:image/png;base64,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) \n"
      ]
    },
    {
      "cell_type": "code",
      "metadata": {
        "id": "sv_16cbdgS-9",
        "colab_type": "code",
        "colab": {}
      },
      "source": [
        ""
      ],
      "execution_count": 36,
      "outputs": []
    },
    {
      "cell_type": "code",
      "metadata": {
        "id": "P9Dt3aaEmJWS",
        "colab_type": "code",
        "colab": {}
      },
      "source": [
        "total_variation_weight = 0.1\n",
        "style_weight = 1\n",
        "content_weight = 10"
      ],
      "execution_count": 55,
      "outputs": []
    },
    {
      "cell_type": "code",
      "metadata": {
        "id": "CQQJOhCVuse6",
        "colab_type": "code",
        "colab": {}
      },
      "source": [
        "# Definimos el tamaño de las imágenes a utilizar\n",
        "width, height = load_img(base_image_path).size\n",
        "img_nrows = 400\n",
        "img_ncols = int(width * img_nrows / height)"
      ],
      "execution_count": 56,
      "outputs": []
    },
    {
      "cell_type": "markdown",
      "metadata": {
        "id": "gg2ct-8agm1E",
        "colab_type": "text"
      },
      "source": [
        "# 2) Explicar qué hace la siguiente celda. En especial las últimas dos líneas de la función antes del return. ¿Por qué?\n",
        "\n",
        "Ayuda: https://keras.io/applications/\n",
        "\n",
        "**Respuesta**: La celda contiene una funcion que carga la imagen y la redimensiona para adecuarla al modelo de la red elegida, en este caso la VGG19. Las ultimas dos lineas hacen lo siguiente: \n",
        "\"expand_dim\", funcion de numpy que toma la imagen y expande el array en 1 dimension para poder procesar en batch.\n",
        " \"vgg19.preprocess_input(img)\" toma la imagen y la adecua a los requerimientos del modelo. En algunos ejemplos posteados el rezising es entre -1, 1 (ResNet50).  En este caso sera lo que vgg19 requiera. Cambia de RGB -> BGR (documentacion vgg16 preprocess tensorflow)\n"
      ]
    },
    {
      "cell_type": "code",
      "metadata": {
        "id": "tAkljg4zuzYd",
        "colab_type": "code",
        "colab": {}
      },
      "source": [
        "def preprocess_image(image_path):\n",
        "    img = load_img(image_path, target_size=(img_nrows, img_ncols))\n",
        "    img = img_to_array(img)\n",
        "    img = np.expand_dims(img, axis=0)\n",
        "    img = vgg19.preprocess_input(img)\n",
        "    return img"
      ],
      "execution_count": 57,
      "outputs": []
    },
    {
      "cell_type": "markdown",
      "metadata": {
        "id": "KTf0YDSagt10",
        "colab_type": "text"
      },
      "source": [
        "# 3) Habiendo comprendido lo que hace la celda anterior, explique de manera muy concisa qué hace la siguiente celda. ¿Qué relación tiene con la celda anterior?\n",
        "\n",
        "**Respuesta**: Convierte el array generado anteriomente en una imagen valida para su uso mas adelante. Descentra la imagen y la convierte en RGB. Se relaciona con la celda anterior ya que el array es generado en dicha celda y esta funcion retorna el formato de la imagen cambiado en la celda anterior."
      ]
    },
    {
      "cell_type": "code",
      "metadata": {
        "id": "y5LaTrsAu14z",
        "colab_type": "code",
        "colab": {}
      },
      "source": [
        "def deprocess_image(x):\n",
        "    x = x.reshape((img_nrows, img_ncols, 3))\n",
        "    # Remove zero-center by mean pixel\n",
        "    x[:, :, 0] += 103.939\n",
        "    x[:, :, 1] += 116.779\n",
        "    x[:, :, 2] += 123.68\n",
        "    # 'BGR'->'RGB'\n",
        "    x = x[:, :, ::-1]\n",
        "    x = np.clip(x, 0, 255).astype('uint8')\n",
        "    return x"
      ],
      "execution_count": 58,
      "outputs": []
    },
    {
      "cell_type": "code",
      "metadata": {
        "id": "HYNio09mu4S3",
        "colab_type": "code",
        "colab": {}
      },
      "source": [
        "# get tensor representations of our images\n",
        "# K.variable convierte un numpy array en un tensor, para \n",
        "base_image = K.variable(preprocess_image(base_image_path))\n",
        "style_reference_image = K.variable(preprocess_image(style_reference_image_path))"
      ],
      "execution_count": 59,
      "outputs": []
    },
    {
      "cell_type": "code",
      "metadata": {
        "id": "a1Lbw02Uu--o",
        "colab_type": "code",
        "colab": {}
      },
      "source": [
        "combination_image = K.placeholder((1, img_nrows, img_ncols, 3))"
      ],
      "execution_count": 60,
      "outputs": []
    },
    {
      "cell_type": "markdown",
      "metadata": {
        "id": "RJEi0YI3Uzrm",
        "colab_type": "text"
      },
      "source": [
        "Aclaración:\n",
        "\n",
        "La siguiente celda sirve para procesar las tres imagenes (contenido, estilo y salida) en un solo batch."
      ]
    },
    {
      "cell_type": "code",
      "metadata": {
        "id": "gGO_jGFfvEbF",
        "colab_type": "code",
        "colab": {}
      },
      "source": [
        "# combine the 3 images into a single Keras tensor\n",
        "input_tensor = K.concatenate([base_image,\n",
        "                              style_reference_image,\n",
        "                              combination_image], axis=0)"
      ],
      "execution_count": 61,
      "outputs": []
    },
    {
      "cell_type": "code",
      "metadata": {
        "id": "tdG59VRavHGB",
        "colab_type": "code",
        "colab": {
          "base_uri": "https://localhost:8080/",
          "height": 35
        },
        "outputId": "7e0dac43-41be-430a-c6cc-a92e77efdc13"
      },
      "source": [
        "# build the VGG19 network with our 3 images as input\n",
        "# the model will be loaded with pre-trained ImageNet weights\n",
        "model = vgg19.VGG19(input_tensor=input_tensor,\n",
        "                    weights='imagenet', include_top=False)\n",
        "print('Model loaded.')\n",
        "\n",
        "# get the symbolic outputs of each \"key\" layer (we gave them unique names).\n",
        "outputs_dict = dict([(layer.name, layer.output) for layer in model.layers])"
      ],
      "execution_count": 62,
      "outputs": [
        {
          "output_type": "stream",
          "text": [
            "Model loaded.\n"
          ],
          "name": "stdout"
        }
      ]
    },
    {
      "cell_type": "markdown",
      "metadata": {
        "id": "70-vs_jZkKVc",
        "colab_type": "text"
      },
      "source": [
        "# 4) En la siguientes celdas:\n",
        "\n",
        "- ¿Qué es la matriz de Gram? \n",
        "- R: Gram matrix se usa para estimar la relacion entre los filtros de los diferentes layers usados. Es el producto punto entre filtros para al final calcular la correlacion entre ellos. \n",
        "-¿Para qué se usa? \n",
        "- R: Para calcular el style loss\n",
        "\n",
        "- ¿Por qué se permutan las dimensiones de x?\n",
        "- R: Porque es la manera computacional de ejecutar la Gram Matrix y encontrar aquellos features que se activan simultaneamente en una misma posicion. Primero se permuta para que de bien luego al transponer. \n",
        "- Fuente https://towardsdatascience.com/artistic-style-transfer-b7566a216431\n"
      ]
    },
    {
      "cell_type": "code",
      "metadata": {
        "id": "K1FODPATvJ1k",
        "colab_type": "code",
        "colab": {}
      },
      "source": [
        "def gram_matrix(x):\n",
        "    features = K.batch_flatten(K.permute_dimensions(x, (2, 0, 1)))\n",
        "    gram = K.dot(features, K.transpose(features))\n",
        "    return gram"
      ],
      "execution_count": 63,
      "outputs": []
    },
    {
      "cell_type": "markdown",
      "metadata": {
        "id": "vBQkKFY0Rbx-",
        "colab_type": "text"
      },
      "source": [
        " 5) Losses:\n",
        "\n",
        "Explicar qué mide cada una de las losses en las siguientes tres celdas.\n",
        "\n",
        "Rta:\n",
        "- 1: Style Loss: Consiste en una suma de distancias L2 entre la matriz Gram de la representacion de la imagen base y la referencia de la imagen de estilo, extraida de diferentes layers de una convnet. La idea es capturar informacion de color/textura a diferentes escalas espaciales, definidas por la profundidad del layer considerado.\n",
        "- 2: Content loss: Es la distancia L2 cuadratica media entre la imagen base content (extraida de un deep layer) y la imagen combinada, manteniendo la imagen generada lo suficientemente cerca de la imagen original. \n",
        "\n",
        "- 3: Total variation loss: Mide la transicion entre pixeles de la imagen generada y promueve una transicion suave entre ellos. Esta diseniada para mantener la imagen generada localmente coherente y mantener una continuidad espacial.\n",
        "- Fuente de estudio: https://www.youtube.com/watch?v=pvjkwmRyFeo\n"
      ]
    },
    {
      "cell_type": "code",
      "metadata": {
        "id": "1-Gt0ahWvN6q",
        "colab_type": "code",
        "colab": {}
      },
      "source": [
        "def style_loss(style, combination):\n",
        "    assert K.ndim(style) == 3\n",
        "    assert K.ndim(combination) == 3\n",
        "    S = gram_matrix(style)\n",
        "    C = gram_matrix(combination)\n",
        "    channels = 3\n",
        "    size = img_nrows * img_ncols\n",
        "    return K.sum(K.square(S - C)) / (4.0 * (channels ** 2) * (size ** 2))"
      ],
      "execution_count": 64,
      "outputs": []
    },
    {
      "cell_type": "code",
      "metadata": {
        "id": "XCqnju5RvQCo",
        "colab_type": "code",
        "colab": {}
      },
      "source": [
        "def content_loss(base, combination):\n",
        "    return K.sum(K.square(combination - base))\n"
      ],
      "execution_count": 65,
      "outputs": []
    },
    {
      "cell_type": "code",
      "metadata": {
        "id": "udEp5h31vRnY",
        "colab_type": "code",
        "colab": {}
      },
      "source": [
        "def total_variation_loss(x):\n",
        "    assert K.ndim(x) == 4\n",
        "    a = K.square(\n",
        "        x[:, :img_nrows - 1, :img_ncols - 1, :] - x[:, 1:, :img_ncols - 1, :])\n",
        "    b = K.square(\n",
        "        x[:, :img_nrows - 1, :img_ncols - 1, :] - x[:, :img_nrows - 1, 1:, :])\n",
        "    return K.sum(K.pow(a + b, 1.25))\n"
      ],
      "execution_count": 66,
      "outputs": []
    },
    {
      "cell_type": "code",
      "metadata": {
        "id": "-65vcinbvTZ0",
        "colab_type": "code",
        "colab": {}
      },
      "source": [
        "# Armamos la loss total\n",
        "loss = K.variable(0.0)\n",
        "layer_features = outputs_dict['block5_conv2']\n",
        "base_image_features = layer_features[0, :, :, :]\n",
        "combination_features = layer_features[2, :, :, :]\n",
        "loss = loss + content_weight * content_loss(base_image_features,\n",
        "                                            combination_features)\n",
        "\n",
        "feature_layers = ['block1_conv1', 'block2_conv1',\n",
        "                  'block3_conv1', 'block4_conv1',\n",
        "                  'block5_conv1']\n",
        "for layer_name in feature_layers:\n",
        "    layer_features = outputs_dict[layer_name]\n",
        "    style_reference_features = layer_features[1, :, :, :] \n",
        "    combination_features = layer_features[2, :, :, :]\n",
        "    sl = style_loss(style_reference_features, combination_features)\n",
        "    loss = loss + (style_weight / len(feature_layers)) * sl\n",
        "loss = loss + total_variation_weight * total_variation_loss(combination_image)"
      ],
      "execution_count": 67,
      "outputs": []
    },
    {
      "cell_type": "code",
      "metadata": {
        "id": "pbz4n1OhvV2K",
        "colab_type": "code",
        "colab": {}
      },
      "source": [
        "grads = K.gradients(loss, combination_image)\n",
        "\n",
        "outputs = [loss]\n",
        "if isinstance(grads, (list, tuple)):\n",
        "    outputs += grads\n",
        "else:\n",
        "    outputs.append(grads)\n",
        "\n",
        "f_outputs = K.function([combination_image], outputs)"
      ],
      "execution_count": 68,
      "outputs": []
    },
    {
      "cell_type": "markdown",
      "metadata": {
        "id": "1JbydbOaVcvU",
        "colab_type": "text"
      },
      "source": [
        "# 6) Explique el propósito de las siguientes tres celdas. ¿Qué hace la función fmin_l_bfgs_b? ¿En qué se diferencia con la implementación del paper? ¿Se puede utilizar alguna alternativa?\n",
        "\n",
        "Respuesta: \n",
        "- La primer celda: Es una funcion de evaluacion de loss y el gadiente de la loss de la imagen generada (grads), haciendo resizing y usando la funcion de las celdas anteriores (f_outputs)\n",
        "- La segunda celda es una clase que sera usada en la celda posterior, esta clase llamada evaluator() adapta los datos ya que el optimizador utilizado luego, L-BFGS de scipy no es como los maneja keras.\n",
        "- La terera celda es el loop del optimizador. Se itera n veces (100 para este caso) y termina. Por cada loop se deprocesa la imagen, o sea que se corre el cero y se vuelven a invertir los colores BGR ->RGB y se guarda como nueva imagen generada. \n",
        "- El paper solo usa las loss de style y content, mientras el ejemplo que estamos viendo usa ademas el total loss.\n",
        "- Un metodo alternativo de optimizador puede ser gradient descent (SGD).\n",
        "\n",
        "Fuente de estudio:https://www.youtube.com/watch?v=8D5x9dRQ5cM\n"
      ]
    },
    {
      "cell_type": "code",
      "metadata": {
        "id": "zVE1_qemvZeN",
        "colab_type": "code",
        "colab": {}
      },
      "source": [
        "def eval_loss_and_grads(x):\n",
        "    x = x.reshape((1, img_nrows, img_ncols, 3))\n",
        "    outs = f_outputs([x])\n",
        "    loss_value = outs[0]\n",
        "    if len(outs[1:]) == 1:\n",
        "        grad_values = outs[1].flatten().astype('float64')\n",
        "    else:\n",
        "        grad_values = np.array(outs[1:]).flatten().astype('float64')\n",
        "    return loss_value, grad_values\n",
        "\n",
        "# this Evaluator class makes it possible\n",
        "# to compute loss and gradients in one pass\n",
        "# while retrieving them via two separate functions,\n",
        "# \"loss\" and \"grads\". This is done because scipy.optimize\n",
        "# requires separate functions for loss and gradients,\n",
        "# but computing them separately would be inefficient."
      ],
      "execution_count": 69,
      "outputs": []
    },
    {
      "cell_type": "code",
      "metadata": {
        "id": "Qbl9roIgvdb1",
        "colab_type": "code",
        "colab": {}
      },
      "source": [
        "class Evaluator(object):\n",
        "\n",
        "    def __init__(self):\n",
        "        self.loss_value = None\n",
        "        self.grads_values = None\n",
        "\n",
        "    def loss(self, x):\n",
        "        assert self.loss_value is None\n",
        "        loss_value, grad_values = eval_loss_and_grads(x)\n",
        "        self.loss_value = loss_value\n",
        "        self.grad_values = grad_values\n",
        "        return self.loss_value\n",
        "\n",
        "    def grads(self, x):\n",
        "        assert self.loss_value is not None\n",
        "        grad_values = np.copy(self.grad_values)\n",
        "        self.loss_value = None\n",
        "        self.grad_values = None\n",
        "        return grad_values"
      ],
      "execution_count": 70,
      "outputs": []
    },
    {
      "cell_type": "markdown",
      "metadata": {
        "id": "Sb0yOEl-WOE6",
        "colab_type": "text"
      },
      "source": [
        "# 7) Ejecute la siguiente celda y observe las imágenes de salida en cada iteración."
      ]
    },
    {
      "cell_type": "code",
      "metadata": {
        "id": "n31YBwCVvhAI",
        "colab_type": "code",
        "colab": {
          "base_uri": "https://localhost:8080/",
          "height": 1000
        },
        "outputId": "4ba44439-4655-49cf-af6e-88ec6f98259f"
      },
      "source": [
        "evaluator = Evaluator()\n",
        "\n",
        "# run scipy-based optimization (L-BFGS) over the pixels of the generated image\n",
        "# so as to minimize the neural style loss\n",
        "x = preprocess_image(base_image_path)\n",
        "\n",
        "for i in range(iterations):\n",
        "    print('Start of iteration', i)\n",
        "    start_time = time.time()\n",
        "    x, min_val, info = fmin_l_bfgs_b(evaluator.loss, x.flatten(),\n",
        "                                     fprime=evaluator.grads, maxfun=20)\n",
        "    print('Current loss value:', min_val)\n",
        "    # save current generated image\n",
        "    img = deprocess_image(x.copy())\n",
        "    fname = result_prefix / ('output_at_iteration_%d.png' % i)\n",
        "    save_img(fname, img)\n",
        "    end_time = time.time()\n",
        "    print('Image saved as', fname)\n",
        "    print('Iteration %d completed in %ds' % (i, end_time - start_time))"
      ],
      "execution_count": 71,
      "outputs": [
        {
          "output_type": "stream",
          "text": [
            "Start of iteration 0\n",
            "Current loss value: 4397544400.0\n",
            "Image saved as /content/output/output_at_iteration_0.png\n",
            "Iteration 0 completed in 4s\n",
            "Start of iteration 1\n",
            "Current loss value: 2653032400.0\n",
            "Image saved as /content/output/output_at_iteration_1.png\n",
            "Iteration 1 completed in 4s\n",
            "Start of iteration 2\n",
            "Current loss value: 2120870400.0\n",
            "Image saved as /content/output/output_at_iteration_2.png\n",
            "Iteration 2 completed in 4s\n",
            "Start of iteration 3\n",
            "Current loss value: 1861674000.0\n",
            "Image saved as /content/output/output_at_iteration_3.png\n",
            "Iteration 3 completed in 4s\n",
            "Start of iteration 4\n",
            "Current loss value: 1696511400.0\n",
            "Image saved as /content/output/output_at_iteration_4.png\n",
            "Iteration 4 completed in 4s\n",
            "Start of iteration 5\n",
            "Current loss value: 1593086200.0\n",
            "Image saved as /content/output/output_at_iteration_5.png\n",
            "Iteration 5 completed in 4s\n",
            "Start of iteration 6\n",
            "Current loss value: 1519438300.0\n",
            "Image saved as /content/output/output_at_iteration_6.png\n",
            "Iteration 6 completed in 4s\n",
            "Start of iteration 7\n",
            "Current loss value: 1464864500.0\n",
            "Image saved as /content/output/output_at_iteration_7.png\n",
            "Iteration 7 completed in 4s\n",
            "Start of iteration 8\n",
            "Current loss value: 1421601900.0\n",
            "Image saved as /content/output/output_at_iteration_8.png\n",
            "Iteration 8 completed in 4s\n",
            "Start of iteration 9\n",
            "Current loss value: 1386976000.0\n",
            "Image saved as /content/output/output_at_iteration_9.png\n",
            "Iteration 9 completed in 4s\n",
            "Start of iteration 10\n",
            "Current loss value: 1359382000.0\n",
            "Image saved as /content/output/output_at_iteration_10.png\n",
            "Iteration 10 completed in 4s\n",
            "Start of iteration 11\n",
            "Current loss value: 1335923000.0\n",
            "Image saved as /content/output/output_at_iteration_11.png\n",
            "Iteration 11 completed in 4s\n",
            "Start of iteration 12\n",
            "Current loss value: 1316260000.0\n",
            "Image saved as /content/output/output_at_iteration_12.png\n",
            "Iteration 12 completed in 4s\n",
            "Start of iteration 13\n",
            "Current loss value: 1298936000.0\n",
            "Image saved as /content/output/output_at_iteration_13.png\n",
            "Iteration 13 completed in 4s\n",
            "Start of iteration 14\n",
            "Current loss value: 1284425700.0\n",
            "Image saved as /content/output/output_at_iteration_14.png\n",
            "Iteration 14 completed in 4s\n",
            "Start of iteration 15\n",
            "Current loss value: 1271691300.0\n",
            "Image saved as /content/output/output_at_iteration_15.png\n",
            "Iteration 15 completed in 4s\n",
            "Start of iteration 16\n",
            "Current loss value: 1260603100.0\n",
            "Image saved as /content/output/output_at_iteration_16.png\n",
            "Iteration 16 completed in 4s\n",
            "Start of iteration 17\n",
            "Current loss value: 1250735700.0\n",
            "Image saved as /content/output/output_at_iteration_17.png\n",
            "Iteration 17 completed in 4s\n",
            "Start of iteration 18\n",
            "Current loss value: 1242212600.0\n",
            "Image saved as /content/output/output_at_iteration_18.png\n",
            "Iteration 18 completed in 4s\n",
            "Start of iteration 19\n",
            "Current loss value: 1234377600.0\n",
            "Image saved as /content/output/output_at_iteration_19.png\n",
            "Iteration 19 completed in 4s\n",
            "Start of iteration 20\n",
            "Current loss value: 1227251700.0\n",
            "Image saved as /content/output/output_at_iteration_20.png\n",
            "Iteration 20 completed in 4s\n",
            "Start of iteration 21\n",
            "Current loss value: 1221090300.0\n",
            "Image saved as /content/output/output_at_iteration_21.png\n",
            "Iteration 21 completed in 4s\n",
            "Start of iteration 22\n",
            "Current loss value: 1215424500.0\n",
            "Image saved as /content/output/output_at_iteration_22.png\n",
            "Iteration 22 completed in 4s\n",
            "Start of iteration 23\n",
            "Current loss value: 1210405400.0\n",
            "Image saved as /content/output/output_at_iteration_23.png\n",
            "Iteration 23 completed in 4s\n",
            "Start of iteration 24\n",
            "Current loss value: 1205741600.0\n",
            "Image saved as /content/output/output_at_iteration_24.png\n",
            "Iteration 24 completed in 4s\n",
            "Start of iteration 25\n",
            "Current loss value: 1201589900.0\n",
            "Image saved as /content/output/output_at_iteration_25.png\n",
            "Iteration 25 completed in 4s\n",
            "Start of iteration 26\n",
            "Current loss value: 1197951400.0\n",
            "Image saved as /content/output/output_at_iteration_26.png\n",
            "Iteration 26 completed in 4s\n",
            "Start of iteration 27\n",
            "Current loss value: 1194709900.0\n",
            "Image saved as /content/output/output_at_iteration_27.png\n",
            "Iteration 27 completed in 4s\n",
            "Start of iteration 28\n",
            "Current loss value: 1191685500.0\n",
            "Image saved as /content/output/output_at_iteration_28.png\n",
            "Iteration 28 completed in 4s\n",
            "Start of iteration 29\n",
            "Current loss value: 1188993700.0\n",
            "Image saved as /content/output/output_at_iteration_29.png\n",
            "Iteration 29 completed in 4s\n",
            "Start of iteration 30\n",
            "Current loss value: 1186537000.0\n",
            "Image saved as /content/output/output_at_iteration_30.png\n",
            "Iteration 30 completed in 4s\n",
            "Start of iteration 31\n",
            "Current loss value: 1184324000.0\n",
            "Image saved as /content/output/output_at_iteration_31.png\n",
            "Iteration 31 completed in 4s\n",
            "Start of iteration 32\n",
            "Current loss value: 1182262800.0\n",
            "Image saved as /content/output/output_at_iteration_32.png\n",
            "Iteration 32 completed in 4s\n",
            "Start of iteration 33\n",
            "Current loss value: 1180319200.0\n",
            "Image saved as /content/output/output_at_iteration_33.png\n",
            "Iteration 33 completed in 4s\n",
            "Start of iteration 34\n",
            "Current loss value: 1178532500.0\n",
            "Image saved as /content/output/output_at_iteration_34.png\n",
            "Iteration 34 completed in 4s\n",
            "Start of iteration 35\n",
            "Current loss value: 1176869100.0\n",
            "Image saved as /content/output/output_at_iteration_35.png\n",
            "Iteration 35 completed in 4s\n",
            "Start of iteration 36\n",
            "Current loss value: 1175392400.0\n",
            "Image saved as /content/output/output_at_iteration_36.png\n",
            "Iteration 36 completed in 4s\n",
            "Start of iteration 37\n",
            "Current loss value: 1174035500.0\n",
            "Image saved as /content/output/output_at_iteration_37.png\n",
            "Iteration 37 completed in 4s\n",
            "Start of iteration 38\n",
            "Current loss value: 1172765700.0\n",
            "Image saved as /content/output/output_at_iteration_38.png\n",
            "Iteration 38 completed in 4s\n",
            "Start of iteration 39\n",
            "Current loss value: 1171579900.0\n",
            "Image saved as /content/output/output_at_iteration_39.png\n",
            "Iteration 39 completed in 4s\n",
            "Start of iteration 40\n",
            "Current loss value: 1170473100.0\n",
            "Image saved as /content/output/output_at_iteration_40.png\n",
            "Iteration 40 completed in 4s\n",
            "Start of iteration 41\n",
            "Current loss value: 1169448300.0\n",
            "Image saved as /content/output/output_at_iteration_41.png\n",
            "Iteration 41 completed in 4s\n",
            "Start of iteration 42\n",
            "Current loss value: 1168453900.0\n",
            "Image saved as /content/output/output_at_iteration_42.png\n",
            "Iteration 42 completed in 4s\n",
            "Start of iteration 43\n",
            "Current loss value: 1167552800.0\n",
            "Image saved as /content/output/output_at_iteration_43.png\n",
            "Iteration 43 completed in 4s\n",
            "Start of iteration 44\n",
            "Current loss value: 1166683600.0\n",
            "Image saved as /content/output/output_at_iteration_44.png\n",
            "Iteration 44 completed in 4s\n",
            "Start of iteration 45\n",
            "Current loss value: 1165877900.0\n",
            "Image saved as /content/output/output_at_iteration_45.png\n",
            "Iteration 45 completed in 4s\n",
            "Start of iteration 46\n",
            "Current loss value: 1165093200.0\n",
            "Image saved as /content/output/output_at_iteration_46.png\n",
            "Iteration 46 completed in 4s\n",
            "Start of iteration 47\n",
            "Current loss value: 1164369900.0\n",
            "Image saved as /content/output/output_at_iteration_47.png\n",
            "Iteration 47 completed in 4s\n",
            "Start of iteration 48\n",
            "Current loss value: 1163680400.0\n",
            "Image saved as /content/output/output_at_iteration_48.png\n",
            "Iteration 48 completed in 4s\n",
            "Start of iteration 49\n",
            "Current loss value: 1163027500.0\n",
            "Image saved as /content/output/output_at_iteration_49.png\n",
            "Iteration 49 completed in 4s\n",
            "Start of iteration 50\n",
            "Current loss value: 1162395600.0\n",
            "Image saved as /content/output/output_at_iteration_50.png\n",
            "Iteration 50 completed in 4s\n",
            "Start of iteration 51\n",
            "Current loss value: 1161814900.0\n",
            "Image saved as /content/output/output_at_iteration_51.png\n",
            "Iteration 51 completed in 4s\n",
            "Start of iteration 52\n",
            "Current loss value: 1161242500.0\n",
            "Image saved as /content/output/output_at_iteration_52.png\n",
            "Iteration 52 completed in 4s\n",
            "Start of iteration 53\n",
            "Current loss value: 1160735900.0\n",
            "Image saved as /content/output/output_at_iteration_53.png\n",
            "Iteration 53 completed in 4s\n",
            "Start of iteration 54\n",
            "Current loss value: 1160234400.0\n",
            "Image saved as /content/output/output_at_iteration_54.png\n",
            "Iteration 54 completed in 4s\n",
            "Start of iteration 55\n",
            "Current loss value: 1159777000.0\n",
            "Image saved as /content/output/output_at_iteration_55.png\n",
            "Iteration 55 completed in 4s\n",
            "Start of iteration 56\n",
            "Current loss value: 1159338800.0\n",
            "Image saved as /content/output/output_at_iteration_56.png\n",
            "Iteration 56 completed in 4s\n",
            "Start of iteration 57\n",
            "Current loss value: 1158919200.0\n",
            "Image saved as /content/output/output_at_iteration_57.png\n",
            "Iteration 57 completed in 4s\n",
            "Start of iteration 58\n",
            "Current loss value: 1158521900.0\n",
            "Image saved as /content/output/output_at_iteration_58.png\n",
            "Iteration 58 completed in 4s\n",
            "Start of iteration 59\n",
            "Current loss value: 1158152800.0\n",
            "Image saved as /content/output/output_at_iteration_59.png\n",
            "Iteration 59 completed in 4s\n",
            "Start of iteration 60\n",
            "Current loss value: 1157785000.0\n",
            "Image saved as /content/output/output_at_iteration_60.png\n",
            "Iteration 60 completed in 4s\n",
            "Start of iteration 61\n",
            "Current loss value: 1157434500.0\n",
            "Image saved as /content/output/output_at_iteration_61.png\n",
            "Iteration 61 completed in 4s\n",
            "Start of iteration 62\n",
            "Current loss value: 1157100000.0\n",
            "Image saved as /content/output/output_at_iteration_62.png\n",
            "Iteration 62 completed in 4s\n",
            "Start of iteration 63\n",
            "Current loss value: 1156775200.0\n",
            "Image saved as /content/output/output_at_iteration_63.png\n",
            "Iteration 63 completed in 4s\n",
            "Start of iteration 64\n",
            "Current loss value: 1156458400.0\n",
            "Image saved as /content/output/output_at_iteration_64.png\n",
            "Iteration 64 completed in 4s\n",
            "Start of iteration 65\n",
            "Current loss value: 1156157400.0\n",
            "Image saved as /content/output/output_at_iteration_65.png\n",
            "Iteration 65 completed in 4s\n",
            "Start of iteration 66\n",
            "Current loss value: 1155871900.0\n",
            "Image saved as /content/output/output_at_iteration_66.png\n",
            "Iteration 66 completed in 4s\n",
            "Start of iteration 67\n",
            "Current loss value: 1155588700.0\n",
            "Image saved as /content/output/output_at_iteration_67.png\n",
            "Iteration 67 completed in 4s\n",
            "Start of iteration 68\n",
            "Current loss value: 1155334400.0\n",
            "Image saved as /content/output/output_at_iteration_68.png\n",
            "Iteration 68 completed in 4s\n",
            "Start of iteration 69\n",
            "Current loss value: 1155068700.0\n",
            "Image saved as /content/output/output_at_iteration_69.png\n",
            "Iteration 69 completed in 4s\n",
            "Start of iteration 70\n",
            "Current loss value: 1154812000.0\n",
            "Image saved as /content/output/output_at_iteration_70.png\n",
            "Iteration 70 completed in 4s\n",
            "Start of iteration 71\n",
            "Current loss value: 1154548000.0\n",
            "Image saved as /content/output/output_at_iteration_71.png\n",
            "Iteration 71 completed in 4s\n",
            "Start of iteration 72\n",
            "Current loss value: 1154293800.0\n",
            "Image saved as /content/output/output_at_iteration_72.png\n",
            "Iteration 72 completed in 4s\n",
            "Start of iteration 73\n",
            "Current loss value: 1154027100.0\n",
            "Image saved as /content/output/output_at_iteration_73.png\n",
            "Iteration 73 completed in 4s\n",
            "Start of iteration 74\n",
            "Current loss value: 1153773800.0\n",
            "Image saved as /content/output/output_at_iteration_74.png\n",
            "Iteration 74 completed in 4s\n",
            "Start of iteration 75\n",
            "Current loss value: 1153531400.0\n",
            "Image saved as /content/output/output_at_iteration_75.png\n",
            "Iteration 75 completed in 4s\n",
            "Start of iteration 76\n",
            "Current loss value: 1153299600.0\n",
            "Image saved as /content/output/output_at_iteration_76.png\n",
            "Iteration 76 completed in 4s\n",
            "Start of iteration 77\n",
            "Current loss value: 1153076500.0\n",
            "Image saved as /content/output/output_at_iteration_77.png\n",
            "Iteration 77 completed in 4s\n",
            "Start of iteration 78\n",
            "Current loss value: 1152861300.0\n",
            "Image saved as /content/output/output_at_iteration_78.png\n",
            "Iteration 78 completed in 4s\n",
            "Start of iteration 79\n",
            "Current loss value: 1152656800.0\n",
            "Image saved as /content/output/output_at_iteration_79.png\n",
            "Iteration 79 completed in 4s\n",
            "Start of iteration 80\n",
            "Current loss value: 1152462300.0\n",
            "Image saved as /content/output/output_at_iteration_80.png\n",
            "Iteration 80 completed in 4s\n",
            "Start of iteration 81\n",
            "Current loss value: 1152272300.0\n",
            "Image saved as /content/output/output_at_iteration_81.png\n",
            "Iteration 81 completed in 4s\n",
            "Start of iteration 82\n",
            "Current loss value: 1152083700.0\n",
            "Image saved as /content/output/output_at_iteration_82.png\n",
            "Iteration 82 completed in 4s\n",
            "Start of iteration 83\n",
            "Current loss value: 1151905300.0\n",
            "Image saved as /content/output/output_at_iteration_83.png\n",
            "Iteration 83 completed in 4s\n",
            "Start of iteration 84\n",
            "Current loss value: 1151729700.0\n",
            "Image saved as /content/output/output_at_iteration_84.png\n",
            "Iteration 84 completed in 4s\n",
            "Start of iteration 85\n",
            "Current loss value: 1151564400.0\n",
            "Image saved as /content/output/output_at_iteration_85.png\n",
            "Iteration 85 completed in 4s\n",
            "Start of iteration 86\n",
            "Current loss value: 1151397800.0\n",
            "Image saved as /content/output/output_at_iteration_86.png\n",
            "Iteration 86 completed in 4s\n",
            "Start of iteration 87\n",
            "Current loss value: 1151238900.0\n",
            "Image saved as /content/output/output_at_iteration_87.png\n",
            "Iteration 87 completed in 4s\n",
            "Start of iteration 88\n",
            "Current loss value: 1151077400.0\n",
            "Image saved as /content/output/output_at_iteration_88.png\n",
            "Iteration 88 completed in 4s\n",
            "Start of iteration 89\n",
            "Current loss value: 1150916500.0\n",
            "Image saved as /content/output/output_at_iteration_89.png\n",
            "Iteration 89 completed in 4s\n",
            "Start of iteration 90\n",
            "Current loss value: 1150758500.0\n",
            "Image saved as /content/output/output_at_iteration_90.png\n",
            "Iteration 90 completed in 4s\n",
            "Start of iteration 91\n",
            "Current loss value: 1150602600.0\n",
            "Image saved as /content/output/output_at_iteration_91.png\n",
            "Iteration 91 completed in 4s\n",
            "Start of iteration 92\n",
            "Current loss value: 1150457600.0\n",
            "Image saved as /content/output/output_at_iteration_92.png\n",
            "Iteration 92 completed in 4s\n",
            "Start of iteration 93\n",
            "Current loss value: 1150310900.0\n",
            "Image saved as /content/output/output_at_iteration_93.png\n",
            "Iteration 93 completed in 4s\n",
            "Start of iteration 94\n",
            "Current loss value: 1150191000.0\n",
            "Image saved as /content/output/output_at_iteration_94.png\n",
            "Iteration 94 completed in 4s\n",
            "Start of iteration 95\n",
            "Current loss value: 1150077400.0\n",
            "Image saved as /content/output/output_at_iteration_95.png\n",
            "Iteration 95 completed in 4s\n",
            "Start of iteration 96\n",
            "Current loss value: 1149974800.0\n",
            "Image saved as /content/output/output_at_iteration_96.png\n",
            "Iteration 96 completed in 4s\n",
            "Start of iteration 97\n",
            "Current loss value: 1149881700.0\n",
            "Image saved as /content/output/output_at_iteration_97.png\n",
            "Iteration 97 completed in 4s\n",
            "Start of iteration 98\n",
            "Current loss value: 1149797400.0\n",
            "Image saved as /content/output/output_at_iteration_98.png\n",
            "Iteration 98 completed in 4s\n",
            "Start of iteration 99\n",
            "Current loss value: 1149717200.0\n",
            "Image saved as /content/output/output_at_iteration_99.png\n",
            "Iteration 99 completed in 4s\n"
          ],
          "name": "stdout"
        }
      ]
    },
    {
      "cell_type": "markdown",
      "metadata": {
        "id": "SkiJtofbWWy1",
        "colab_type": "text"
      },
      "source": [
        "# 8) Generar imágenes para distintas combinaciones de pesos de las losses. Explicar las diferencias. (Adjuntar las imágenes generadas como archivos separados.)\n",
        "\n",
        "Respuesta:\n",
        "Se probo con los pesos originales style weight=10 content_weight=1 y luego se revirtio el peso siendo content_w=10 y style_w=1. Se observa que al darle mas peso al content se pierden menos detalles de la foto original. Los cambios se dan en las primeras iteraciones y luego se estabiliza. Por ello adjunto todas las fotos de las iteraciones 1 a 10 y luego adjunto 1 cada 10 iteraciones.\n",
        "\n",
        "\n",
        "# 9) Cambiar las imágenes de contenido y estilo por unas elegidas por usted. Adjuntar el resultado.\n",
        "\n",
        "Respuesta: Adjuntas - Foto de familia tomada con paisaje de fondo para content y cuadro de picasso como style. Incluidos en el mismo adjunto."
      ]
    }
  ]
}